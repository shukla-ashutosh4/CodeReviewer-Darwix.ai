{
  "nbformat": 4,
  "nbformat_minor": 0,
  "metadata": {
    "colab": {
      "provenance": []
    },
    "kernelspec": {
      "name": "python3",
      "display_name": "Python 3"
    },
    "language_info": {
      "name": "python"
    }
  },
  "cells": [
    {
      "cell_type": "markdown",
      "source": [
        "# The Empathetic Code Reviewer ✨\n",
        "\n",
        "> Transforming Critical Feedback into Constructive Growth.\n",
        "\n",
        "This project is an AI-powered tool built to solve a common problem in software development: harsh, impersonal code reviews. It acts as an intelligent bridge, taking any Python code snippet, automatically identifying areas for improvement, and then reframing the critical feedback into a supportive, educational, and highly detailed report.\n",
        "\n",
        "---\n",
        "## Key Features\n",
        "\n",
        "* **🤖 Automated Code Review:** Simply provide a code snippet, and the AI will act as a senior developer to identify potential issues on its own.\n",
        "* **⚙️ Automatic Formatting:** Before the review, the script automatically formats the input code to comply with PEP 8 standards using the `autopep8` library.\n",
        "* **🧠 Two-Step AI Analysis:**\n",
        "    1.  A \"Critical Reviewer\" persona finds and lists potential issues.\n",
        "    2.  An \"Empathetic Mentor\" persona takes those issues and generates a detailed, constructive report.\n",
        "* **📚 Detailed & Specific Feedback:** For each issue found, the final report provides a positive rephrasing, a clear explanation of the \"why\" (the underlying principle), and a specific code example showing the suggested improvement.\n",
        "\n",
        "---\n",
        "## 🚀 How to Use\n",
        "\n",
        "This project is designed to be run in a single Google Colab notebook.\n",
        "\n",
        "### 1. Prerequisites\n",
        "* A Google Account to use Google Colab.\n",
        "* A Groq Cloud account to get a free API key.\n",
        "\n",
        "### 2. Setup\n",
        "1.  **Get Groq API Key:** Go to the [GroqCloud Console](https://console.groq.com/keys) and create a new, free API key. Copy it.\n",
        "2.  **Open Google Colab:** Go to [colab.research.google.com](https://colab.research.google.com) and create a new notebook.\n",
        "3.  **Add API Key to Secrets:**\n",
        "    * In your Colab notebook, click the **key icon (🔑)** on the left sidebar.\n",
        "    * Create a new secret named `GROQ_API_KEY`.\n",
        "    * Paste your Groq API key into the \"Value\" field and save it.\n",
        "4.  **Run the Code:** Copy the complete Python script for the project into a single cell in your notebook and run it.\n",
        "\n",
        "### 3. Provide Input\n",
        "1.  After running the cell, it will prompt you to enter your code.\n",
        "2.  Paste your Python code snippet.\n",
        "3.  On a new, empty line, type `ENDCODE` and press Enter to start the analysis.\n",
        "4.  The formatted code and the final empathetic review will be displayed in the output.\n",
        "\n",
        "---\n",
        "## 🛠️ Technologies Used\n",
        "\n",
        "* **Python 3**\n",
        "* **Groq API** (Leveraging Llama 3 models)\n",
        "* **autopep8** (For code formatting)\n",
        "* **Google Colab** (As the development environment)\n",
        "\n",
        "---\n",
        "## 🙏 Acknowledgments\n",
        "\n",
        "A heartfelt thank you to the entire team at **Darwix.ai**. Your dedication, innovation, and commitment to excellence are truly inspiring and have been a driving force behind this project. Thank you for all that you do!"
      ],
      "metadata": {
        "id": "IRwD5uSz-pRL"
      }
    },
    {
      "cell_type": "code",
      "source": [
        "# 1. Install the Groq library\n",
        "!pip install -q groq\n",
        "print(\"✅ Groq library installed.\")"
      ],
      "metadata": {
        "colab": {
          "base_uri": "https://localhost:8080/"
        },
        "id": "2WNg5co-6Nw5",
        "outputId": "b27f5374-1ed9-4ed5-ca89-1dfb5c187990"
      },
      "execution_count": 45,
      "outputs": [
        {
          "output_type": "stream",
          "name": "stdout",
          "text": [
            "\u001b[?25l   \u001b[90m━━━━━━━━━━━━━━━━━━━━━━━━━━━━━━━━━━━━━━━━\u001b[0m \u001b[32m0.0/131.4 kB\u001b[0m \u001b[31m?\u001b[0m eta \u001b[36m-:--:--\u001b[0m\r\u001b[2K   \u001b[90m━━━━━━━━━━━━━━━━━━━━━━━━━━━━━━━━━━━━━━━━\u001b[0m \u001b[32m131.4/131.4 kB\u001b[0m \u001b[31m5.3 MB/s\u001b[0m eta \u001b[36m0:00:00\u001b[0m\n",
            "\u001b[?25h✅ Groq library installed.\n"
          ]
        }
      ]
    },
    {
      "cell_type": "code",
      "source": [
        "# 1. Install necessary libraries\n",
        "!pip install -q groq autopep8\n",
        "print(\"✅ Libraries (groq, autopep8) installed.\")"
      ],
      "metadata": {
        "colab": {
          "base_uri": "https://localhost:8080/"
        },
        "id": "rGm4UiS4826w",
        "outputId": "cb8e2f3c-940d-4bb2-c98e-7084fce887f4"
      },
      "execution_count": 55,
      "outputs": [
        {
          "output_type": "stream",
          "name": "stdout",
          "text": [
            "✅ Libraries (groq, autopep8) installed.\n"
          ]
        }
      ]
    },
    {
      "cell_type": "code",
      "source": [
        "# 2. Import libraries\n",
        "from groq import Groq\n",
        "from google.colab import userdata\n",
        "from IPython.display import display, Markdown, clear_output\n",
        "import json\n",
        "import autopep8"
      ],
      "metadata": {
        "id": "aDBKsZD185SO"
      },
      "execution_count": 56,
      "outputs": []
    },
    {
      "cell_type": "code",
      "source": [
        "# 3. Configure the Groq client\n",
        "groq_client = None\n",
        "try:\n",
        "    groq_api_key = userdata.get('GROQ_API_KEY')\n",
        "    groq_client = Groq(api_key=groq_api_key)\n",
        "    print(\"✨ Groq client configured successfully!\")\n",
        "except Exception as e:\n",
        "    print(\"🔴 ERROR: Could not configure Groq client. Please check your 'GROQ_API_KEY' secret.\")"
      ],
      "metadata": {
        "colab": {
          "base_uri": "https://localhost:8080/"
        },
        "id": "dnQGaDNI88Cp",
        "outputId": "50c1263b-62db-4ffe-ec54-81ee9155b624"
      },
      "execution_count": 57,
      "outputs": [
        {
          "output_type": "stream",
          "name": "stdout",
          "text": [
            "✨ Groq client configured successfully!\n"
          ]
        }
      ]
    },
    {
      "cell_type": "code",
      "source": [
        "# --- Helper function for multi-line input ---\n",
        "def get_multiline_input(end_keyword):\n",
        "    \"\"\"Reads multiple lines of input from the user.\"\"\"\n",
        "    print(f\"👇 Paste your code below. Type {end_keyword} on a new line when you are finished.\")\n",
        "    lines = []\n",
        "    while True:\n",
        "        try:\n",
        "            line = input()\n",
        "            if line.strip().upper() == end_keyword:\n",
        "                break\n",
        "            lines.append(line)\n",
        "        except EOFError:\n",
        "            break\n",
        "    return \"\\n\".join(lines)"
      ],
      "metadata": {
        "id": "COCocwyY8-JO"
      },
      "execution_count": 58,
      "outputs": []
    },
    {
      "cell_type": "code",
      "source": [
        "# --- AI Logic ---\n",
        "def run_automated_review(user_code):\n",
        "    if not groq_client:\n",
        "        return \"🔴 Groq client not configured.\", None\n",
        "\n",
        "    # --- Auto-format the user's code ---\n",
        "    print(\"\\n⚙️ Auto-indenting and formatting your code...\")\n",
        "    formatted_code = autopep8.fix_code(user_code)\n",
        "    print(\"✅ Code formatting complete.\")\n",
        "\n",
        "    # --- STEP 1: AI acts as a CRITICAL reviewer ---\n",
        "    print(\"\\n🤖 Step 1: Generating critical review comments...\")\n",
        "    critical_reviewer_prompt = f\"\"\"\n",
        "    You are a meticulous senior developer. Review the following Python code. Identify 3-4 areas for improvement focusing on efficiency, naming, redundancy, and logic.\n",
        "    Your output MUST be a JSON object with a single key \"comments\" that contains an array of strings. Each string is a single, concise, critical comment.\n",
        "    Code to review:\n",
        "    ```python\n",
        "    {formatted_code}\n",
        "    ```\n",
        "    \"\"\"\n",
        "    try:\n",
        "        critical_response = groq_client.chat.completions.create(\n",
        "            messages=[{\"role\": \"user\", \"content\": critical_reviewer_prompt}],\n",
        "            model=\"llama3-8b-8192\", temperature=0.1, response_format={\"type\": \"json_object\"},\n",
        "        )\n",
        "        harsh_comments = json.loads(critical_response.choices[0].message.content).get(\"comments\", [])\n",
        "        if not harsh_comments:\n",
        "             return \"🔴 AI failed to generate review comments.\", None\n",
        "        print(\"✅ Critical comments generated.\")\n",
        "    except Exception as e:\n",
        "        return f\"🔴 An error occurred during Step 1 (Critical Review): {e}\", formatted_code\n",
        "\n",
        "    # --- STEP 2: AI acts as an EMPATHETIC mentor with CORRECTED, STRICTER instructions ---\n",
        "    print(\"\\n🤖 Step 2: Generating the empathetic report...\")\n",
        "    empathetic_mentor_prompt = f\"\"\"\n",
        "    You are an expert senior software developer and a patient, empathetic mentor. Your mission is to transform the following blunt, critical code review comments into a supportive, educational, and constructive report.\n",
        "\n",
        "    **CRITICAL INSTRUCTIONS:**\n",
        "    1.  You must process **every single comment** from the list provided.\n",
        "    2.  For each comment, generate a distinct Markdown section starting with `---` and `### Analysis of Comment: \"[Original Comment]\"`.\n",
        "    3.  Each section must contain three bullet points: `**Positive Rephrasing:**`, `**The 'Why':**`, and `**Suggested Improvement:**`.\n",
        "    4.  The `**Suggested Improvement**` code block is crucial. It **must only show the specific fix for that one comment**. Do not combine suggestions. For example:\n",
        "        - If a comment is about a variable name, the code block should only show the name changed.\n",
        "        - If a comment is about a boolean check, the code block should only show that part fixed.\n",
        "    5.  After processing all comments, add a final `## Overall Summary & Encouragement` section.\n",
        "\n",
        "    Here is the formatted code snippet that was reviewed:\n",
        "    ```python\n",
        "    {formatted_code}\n",
        "    ```\n",
        "\n",
        "    Here are the critical comments to transform:\n",
        "    {json.dumps(harsh_comments)}\n",
        "    \"\"\"\n",
        "    try:\n",
        "        empathetic_response = groq_client.chat.completions.create(\n",
        "            messages=[{\"role\": \"user\", \"content\": empathetic_mentor_prompt}],\n",
        "            model=\"llama3-70b-8192\",\n",
        "        )\n",
        "        final_report = empathetic_response.choices[0].message.content\n",
        "        return final_report, formatted_code\n",
        "    except Exception as e:\n",
        "        return f\"🔴 An error occurred during Step 2 (Empathetic Review): {e}\", formatted_code\n"
      ],
      "metadata": {
        "id": "hLASwB7s9GEx"
      },
      "execution_count": 59,
      "outputs": []
    },
    {
      "cell_type": "code",
      "source": [
        "# --- Main Execution Block ---\n",
        "if groq_client:\n",
        "    user_code_snippet = get_multiline_input(\"ENDCODE\")\n",
        "    if user_code_snippet.strip():\n",
        "        report, final_code = run_automated_review(user_code_snippet)\n",
        "        clear_output()\n",
        "        if final_code:\n",
        "            display(Markdown(\"---\"))\n",
        "            display(Markdown(\"### ✨ Auto-Formatted Code\"))\n",
        "            display(Markdown(f\"```python\\n{final_code}\\n```\"))\n",
        "        if report:\n",
        "            display(Markdown(\"---\"))\n",
        "            display(Markdown(\"### 📝 Empathetic Code Review\"))\n",
        "            display(Markdown(report))\n",
        "    else:\n",
        "        print(\"\\n🔴 No code entered. Analysis cancelled.\")"
      ],
      "metadata": {
        "colab": {
          "base_uri": "https://localhost:8080/",
          "height": 195
        },
        "id": "caLsb-zD9JR7",
        "outputId": "197bda5b-bbdb-43f1-d7b3-ae27c07e83c2"
      },
      "execution_count": 63,
      "outputs": [
        {
          "output_type": "display_data",
          "data": {
            "text/plain": [
              "<IPython.core.display.Markdown object>"
            ],
            "text/markdown": "---"
          },
          "metadata": {}
        },
        {
          "output_type": "display_data",
          "data": {
            "text/plain": [
              "<IPython.core.display.Markdown object>"
            ],
            "text/markdown": "### ✨ Auto-Formatted Code"
          },
          "metadata": {}
        },
        {
          "output_type": "display_data",
          "data": {
            "text/plain": [
              "<IPython.core.display.Markdown object>"
            ],
            "text/markdown": "```python\n# Output: nohtyp\noriginal_string = \"python\" reversed_string = \"\" for char in original_string:     reversed_string = char + reversed_string print(reversed_string)\n\n```"
          },
          "metadata": {}
        },
        {
          "output_type": "display_data",
          "data": {
            "text/plain": [
              "<IPython.core.display.Markdown object>"
            ],
            "text/markdown": "---"
          },
          "metadata": {}
        },
        {
          "output_type": "display_data",
          "data": {
            "text/plain": [
              "<IPython.core.display.Markdown object>"
            ],
            "text/markdown": "### 📝 Empathetic Code Review"
          },
          "metadata": {}
        },
        {
          "output_type": "display_data",
          "data": {
            "text/plain": [
              "<IPython.core.display.Markdown object>"
            ],
            "text/markdown": "🔴 An error occurred during Step 2 (Empathetic Review): Error code: 503 - {'error': {'message': 'Service unavailable. Visit https://groqstatus.com/ to see if there is an active incident.', 'type': 'internal_server_error'}}"
          },
          "metadata": {}
        }
      ]
    },
    {
      "cell_type": "code",
      "source": [],
      "metadata": {
        "id": "SyHerBve-od6"
      },
      "execution_count": null,
      "outputs": []
    }
  ]
}